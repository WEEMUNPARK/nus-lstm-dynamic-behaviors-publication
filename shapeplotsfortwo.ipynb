{
 "cells": [
  {
   "cell_type": "code",
   "execution_count": null,
   "id": "fe064cd1",
   "metadata": {},
   "outputs": [],
   "source": [
    "x=[]\n",
    "\n",
    "path='inten/1-1000.txt'\n",
    "with open(path) as f:\n",
    "        for line in f.readlines():\n",
    "            line=np.float64(line.strip('\\n'))\n",
    "            x.append(line)\n",
    "xl=[]\n",
    "with open('inten/loss.txt') as f:\n",
    "    for line in f.readlines():\n",
    "        line=line.strip('\\n')\n",
    "        xl.append(float(line))   \n",
    "#plt.scatter(np.arange(991),l)\n",
    "fig, ax1 = plt.subplots(figsize=(14,8))\n",
    "#plt.xlim(0,1001)\n",
    "a=np.arange(1,1001)\n",
    "for i in range(1,len(a)):\n",
    "    if x[i]==-25:\n",
    "        ax1.axvspan(int(i),int(i+2), facecolor='orange',label='order and absolutly 0')\n",
    "    if -20.9>x[i]>-25:\n",
    "        ax1.axvspan(i,i+2, facecolor='lightgreen',label='order but not 0 at this timestep')\n",
    "    if x[i]>-20.9:\n",
    "        ax1.axvspan(i,i+2, facecolor='pink',label='chaos')       \n",
    "color = 'tab:red'\n",
    "ax1.set_xlabel('epoch (model2)')\n",
    "ax1.set_ylabel('loss', color=color)\n",
    "ax1.plot(np.arange(1,1001), xl, color=color)\n",
    "ax1.tick_params(axis='y', labelcolor=color)\n",
    "ax1.title.set_text('loss-epoch state change map')\n",
    "\n",
    "\n",
    "ax2 = ax1.twinx()  # 创建共用x轴的第二个y轴\n",
    "\n",
    "color = 'tab:blue'\n",
    "ax2.set_ylabel(\"mean of asymptotic distances (log) \", color=color)\n",
    "ax2.plot(np.arange(1,1001),x,'.',color=color)\n",
    "ax2.tick_params(axis='y', labelcolor=color)\n",
    "ax2.plot([360], x[360], 'd', color='yellow')\n",
    "ax2.annotate(\"Edge of Chaos\", xy=(360, x[360]), xytext=(190, -10),\n",
    "             arrowprops=dict(arrowstyle=\"->\", color='black'),\n",
    "             bbox=dict(boxstyle=\"round,pad=0.3\", fc=\"yellow\", ec=\"black\"),\n",
    "             fontsize=10)\n",
    "\n",
    "plt.ylim(-30,2,32)\n",
    "plt.savefig('inten/loss-epoch state change map.png')\n",
    "plt.show()"
   ]
  }
 ],
 "metadata": {
  "kernelspec": {
   "display_name": "Python 3 (ipykernel)",
   "language": "python",
   "name": "python3"
  },
  "language_info": {
   "codemirror_mode": {
    "name": "ipython",
    "version": 3
   },
   "file_extension": ".py",
   "mimetype": "text/x-python",
   "name": "python",
   "nbconvert_exporter": "python",
   "pygments_lexer": "ipython3",
   "version": "3.10.6"
  }
 },
 "nbformat": 4,
 "nbformat_minor": 5
}
